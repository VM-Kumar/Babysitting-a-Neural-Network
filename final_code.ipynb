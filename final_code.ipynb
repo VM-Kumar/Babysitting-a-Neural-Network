{
  "nbformat": 4,
  "nbformat_minor": 0,
  "metadata": {
    "colab": {
      "name": "mvenkat3_code.ipynb",
      "provenance": [],
      "collapsed_sections": []
    },
    "kernelspec": {
      "name": "python3",
      "display_name": "Python 3"
    }
  },
  "cells": [
    {
      "cell_type": "code",
      "metadata": {
        "id": "1o_Pfd_q17_2",
        "colab_type": "code",
        "colab": {
          "base_uri": "https://localhost:8080/",
          "height": 34
        },
        "outputId": "78e112cf-e826-4874-d8c8-f7522aa811e9"
      },
      "source": [
        "#project originally done in google collab hence mounted on drive\n",
        "from google.colab import drive\n",
        "drive.mount('/content/drive')"
      ],
      "execution_count": 171,
      "outputs": [
        {
          "output_type": "stream",
          "text": [
            "Drive already mounted at /content/drive; to attempt to forcibly remount, call drive.mount(\"/content/drive\", force_remount=True).\n"
          ],
          "name": "stdout"
        }
      ]
    },
    {
      "cell_type": "code",
      "metadata": {
        "id": "HZ18gY8f3J4T",
        "colab_type": "code",
        "colab": {}
      },
      "source": [
        "#import necessary libraries\n",
        "import sys\n",
        "import cv2\n",
        "import numpy as np\n",
        "import random\n",
        "from matplotlib import pyplot\n",
        "#from keras.datasets import cifar10\n",
        "from keras.utils import to_categorical\n",
        "from keras.models import Sequential\n",
        "from keras.layers import Conv2D\n",
        "from keras.layers import MaxPooling2D\n",
        "from keras.layers import Dense\n",
        "from keras.layers import Flatten\n",
        "from keras.optimizers import SGD\n",
        "from keras.regularizers import l2\n",
        "from keras.callbacks import LearningRateScheduler\n",
        "from keras.preprocessing.image import ImageDataGenerator"
      ],
      "execution_count": 0,
      "outputs": []
    },
    {
      "cell_type": "code",
      "metadata": {
        "id": "kkfsJO4G3Pie",
        "colab_type": "code",
        "colab": {}
      },
      "source": [
        "# define cnn model\n",
        "def define_model(W,L):\n",
        "  model = Sequential()\n",
        "  model.add(Flatten(input_shape=(20,20,3)))\n",
        "  model.add(Dense(20, activation='relu', kernel_initializer='he_uniform', kernel_regularizer=l2(W)))\n",
        "  model.add(Dense(2, activation='softmax'))\n",
        "  # compile model\n",
        "  opt = SGD(learning_rate=L, momentum=0.9)\n",
        "  model.compile(optimizer=opt, loss='categorical_crossentropy', metrics=['accuracy'])\n",
        "  return model\n",
        "  "
      ],
      "execution_count": 0,
      "outputs": []
    },
    {
      "cell_type": "code",
      "metadata": {
        "id": "Ni6lmNV13jzB",
        "colab_type": "code",
        "colab": {
          "base_uri": "https://localhost:8080/",
          "height": 34
        },
        "outputId": "f88140ed-bac5-42c0-e0c1-814e0d02458d"
      },
      "source": [
        "# obtaining the dataset\n",
        "trainsize=1000\n",
        "testsize=100\n",
        "\n",
        "############insert path of the dataset folder\n",
        "path=r'/content/drive/My Drive/dataset/'\n",
        "img_face_train=[]\n",
        "for i in range(trainsize//2):\n",
        "    pat= path + 'dataset_face_train/im{}.jpg'.format(i+1)\n",
        "    image=cv2.imread(pat)\n",
        "    img_face_train.append(image)\n",
        "img_face_train=np.array(img_face_train)    \n",
        "\n",
        "\n",
        "img_face_test=[]\n",
        "for i in range(testsize//2):\n",
        "    pat= path + 'dataset_face_test/im{}.jpg'.format(i+1)\n",
        "    image=cv2.imread(pat)\n",
        "    img_face_test.append(image)\n",
        "img_face_test=np.array(img_face_test)\n",
        "\n",
        "\n",
        "img_nonface_train=[]\n",
        "for i in range(trainsize//2):\n",
        "    pat= path + 'dataset_nonface_train/im{}.jpg'.format(i+1)\n",
        "    image=cv2.imread(pat)\n",
        "    img_nonface_train.append(image)\n",
        "img_nonface_train=np.array(img_nonface_train)\n",
        "\n",
        "\n",
        "img_nonface_test=[]\n",
        "for i in range(testsize//2):\n",
        "    pat= path + 'dataset_nonface_test/im{}.jpg'.format(i+1)\n",
        "    image=cv2.imread(pat)\n",
        "    img_nonface_test.append(image)\n",
        "img_nonface_test=np.array(img_nonface_test)\n",
        "\n",
        "trainY=np.array([[0]]*(trainsize//2) + [[1]]*(trainsize//2))\n",
        "testY=np.array([[0]]*(testsize//2) + [[1]]*(testsize//2))\n",
        "trainY = to_categorical(trainY)\n",
        "testY = to_categorical(testY)\n",
        "trainX=np.append(img_face_train,img_nonface_train,axis=0)\n",
        "testX=np.append(img_face_test,img_nonface_test,axis=0)\n",
        "print(trainX.shape,type(trainX),testX.shape,type(testX))\n"
      ],
      "execution_count": 174,
      "outputs": [
        {
          "output_type": "stream",
          "text": [
            "(1000, 20, 20, 3) <class 'numpy.ndarray'> (100, 20, 20, 3) <class 'numpy.ndarray'>\n"
          ],
          "name": "stdout"
        }
      ]
    },
    {
      "cell_type": "code",
      "metadata": {
        "id": "CZ8WphqtBmbO",
        "colab_type": "code",
        "colab": {}
      },
      "source": [
        "# convert from integers to floats\n",
        "train_norm = trainX.astype('float32')\n",
        "test_norm = testX.astype('float32')\n",
        "\n",
        "# normalize to range 0-1\n",
        "trainX = train_norm / 255.0\n",
        "testX = test_norm / 255.0\n",
        "\n",
        "#Normalization\n",
        "trainX-=np.mean(trainX,axis=0)\n",
        "trainX/=np.std(trainX,axis=0)\n",
        "testX-=np.mean(testX,axis=0)\n",
        "testX/=np.std(testX,axis=0)\n",
        "batch_size=64\n"
      ],
      "execution_count": 0,
      "outputs": []
    },
    {
      "cell_type": "code",
      "metadata": {
        "id": "o0I3nbOC0MAZ",
        "colab_type": "code",
        "colab": {
          "base_uri": "https://localhost:8080/",
          "height": 374
        },
        "outputId": "9a5c68fd-f0a8-43ae-d496-45ad1212d37d"
      },
      "source": [
        "# Common Training module with normalized data and data augmentation\n",
        "Weight_Decay=1e-6 ;Learning_Rate=0.00001\n",
        "model = define_model(Weight_Decay,Learning_Rate)\n",
        "datagen = ImageDataGenerator(rotation_range=15,width_shift_range=0.1,height_shift_range=0.1,horizontal_flip=True,)\n",
        "datagen.fit(trainX)\n",
        "model.fit_generator(datagen.flow(trainX,trainY, batch_size=64),\n",
        "                    steps_per_epoch=trainX.shape[0] // batch_size,epochs=10,\n",
        "                    verbose=1,validation_data=(testX,testY))"
      ],
      "execution_count": 176,
      "outputs": [
        {
          "output_type": "stream",
          "text": [
            "Epoch 1/10\n",
            "15/15 [==============================] - 0s 25ms/step - loss: 0.8272 - accuracy: 0.4904 - val_loss: 0.7540 - val_accuracy: 0.5000\n",
            "Epoch 2/10\n",
            "15/15 [==============================] - 0s 25ms/step - loss: 0.8061 - accuracy: 0.5021 - val_loss: 0.7327 - val_accuracy: 0.5200\n",
            "Epoch 3/10\n",
            "15/15 [==============================] - 0s 25ms/step - loss: 0.7805 - accuracy: 0.5208 - val_loss: 0.7115 - val_accuracy: 0.5500\n",
            "Epoch 4/10\n",
            "15/15 [==============================] - 0s 24ms/step - loss: 0.7362 - accuracy: 0.5641 - val_loss: 0.6936 - val_accuracy: 0.5600\n",
            "Epoch 5/10\n",
            "15/15 [==============================] - 0s 26ms/step - loss: 0.7314 - accuracy: 0.5641 - val_loss: 0.6765 - val_accuracy: 0.5800\n",
            "Epoch 6/10\n",
            "15/15 [==============================] - 0s 25ms/step - loss: 0.7267 - accuracy: 0.5577 - val_loss: 0.6617 - val_accuracy: 0.5900\n",
            "Epoch 7/10\n",
            "15/15 [==============================] - 0s 26ms/step - loss: 0.7080 - accuracy: 0.5813 - val_loss: 0.6484 - val_accuracy: 0.6000\n",
            "Epoch 8/10\n",
            "15/15 [==============================] - 0s 26ms/step - loss: 0.7091 - accuracy: 0.5780 - val_loss: 0.6359 - val_accuracy: 0.6200\n",
            "Epoch 9/10\n",
            "15/15 [==============================] - 0s 24ms/step - loss: 0.7157 - accuracy: 0.5537 - val_loss: 0.6238 - val_accuracy: 0.6100\n",
            "Epoch 10/10\n",
            "15/15 [==============================] - 0s 25ms/step - loss: 0.6599 - accuracy: 0.6122 - val_loss: 0.6126 - val_accuracy: 0.6400\n"
          ],
          "name": "stdout"
        },
        {
          "output_type": "execute_result",
          "data": {
            "text/plain": [
              "<keras.callbacks.callbacks.History at 0x7fabe6081cf8>"
            ]
          },
          "metadata": {
            "tags": []
          },
          "execution_count": 176
        }
      ]
    },
    {
      "cell_type": "code",
      "metadata": {
        "id": "iKYkRcyJXCFW",
        "colab_type": "code",
        "colab": {
          "base_uri": "https://localhost:8080/",
          "height": 1000
        },
        "outputId": "f3b023e1-7d05-4fa0-e689-3d60b7bfd07e"
      },
      "source": [
        "#train to overfit\n",
        "Weight_Decay=1e-6 ;Learning_Rate=0.01\n",
        "model = define_model(Weight_Decay,Learning_Rate)\n",
        "datagen = ImageDataGenerator(rotation_range=15,width_shift_range=0.1,height_shift_range=0.1,horizontal_flip=True,)\n",
        "datagen.fit(trainX)\n",
        "model.fit_generator(datagen.flow(trainX,trainY, batch_size=64),\n",
        "                    steps_per_epoch=trainX.shape[0] // batch_size,epochs=100,\n",
        "                    verbose=1,validation_data=(testX,testY))"
      ],
      "execution_count": 177,
      "outputs": [
        {
          "output_type": "stream",
          "text": [
            "Epoch 1/100\n",
            "15/15 [==============================] - 0s 24ms/step - loss: 0.5313 - accuracy: 0.7896 - val_loss: 0.1491 - val_accuracy: 0.9400\n",
            "Epoch 2/100\n",
            "15/15 [==============================] - 0s 24ms/step - loss: 0.2420 - accuracy: 0.9090 - val_loss: 0.0967 - val_accuracy: 0.9500\n",
            "Epoch 3/100\n",
            "15/15 [==============================] - 0s 25ms/step - loss: 0.2155 - accuracy: 0.9103 - val_loss: 0.0797 - val_accuracy: 0.9800\n",
            "Epoch 4/100\n",
            "15/15 [==============================] - 0s 26ms/step - loss: 0.1783 - accuracy: 0.9284 - val_loss: 0.0708 - val_accuracy: 0.9700\n",
            "Epoch 5/100\n",
            "15/15 [==============================] - 0s 27ms/step - loss: 0.1693 - accuracy: 0.9306 - val_loss: 0.0703 - val_accuracy: 0.9600\n",
            "Epoch 6/100\n",
            "15/15 [==============================] - 0s 25ms/step - loss: 0.1460 - accuracy: 0.9490 - val_loss: 0.0552 - val_accuracy: 0.9800\n",
            "Epoch 7/100\n",
            "15/15 [==============================] - 0s 25ms/step - loss: 0.1453 - accuracy: 0.9452 - val_loss: 0.0557 - val_accuracy: 0.9800\n",
            "Epoch 8/100\n",
            "15/15 [==============================] - 0s 26ms/step - loss: 0.1278 - accuracy: 0.9615 - val_loss: 0.0656 - val_accuracy: 0.9700\n",
            "Epoch 9/100\n",
            "15/15 [==============================] - 0s 25ms/step - loss: 0.1512 - accuracy: 0.9430 - val_loss: 0.0533 - val_accuracy: 0.9800\n",
            "Epoch 10/100\n",
            "15/15 [==============================] - 0s 26ms/step - loss: 0.1247 - accuracy: 0.9469 - val_loss: 0.0471 - val_accuracy: 0.9800\n",
            "Epoch 11/100\n",
            "15/15 [==============================] - 0s 25ms/step - loss: 0.1113 - accuracy: 0.9605 - val_loss: 0.0647 - val_accuracy: 0.9700\n",
            "Epoch 12/100\n",
            "15/15 [==============================] - 0s 26ms/step - loss: 0.1319 - accuracy: 0.9530 - val_loss: 0.0438 - val_accuracy: 0.9900\n",
            "Epoch 13/100\n",
            "15/15 [==============================] - 0s 26ms/step - loss: 0.1272 - accuracy: 0.9552 - val_loss: 0.0394 - val_accuracy: 1.0000\n",
            "Epoch 14/100\n",
            "15/15 [==============================] - 0s 25ms/step - loss: 0.1107 - accuracy: 0.9583 - val_loss: 0.0416 - val_accuracy: 0.9900\n",
            "Epoch 15/100\n",
            "15/15 [==============================] - 0s 27ms/step - loss: 0.1067 - accuracy: 0.9563 - val_loss: 0.0354 - val_accuracy: 0.9900\n",
            "Epoch 16/100\n",
            "15/15 [==============================] - 0s 21ms/step - loss: 0.1004 - accuracy: 0.9626 - val_loss: 0.0334 - val_accuracy: 0.9900\n",
            "Epoch 17/100\n",
            "15/15 [==============================] - 0s 26ms/step - loss: 0.1019 - accuracy: 0.9605 - val_loss: 0.0363 - val_accuracy: 0.9900\n",
            "Epoch 18/100\n",
            "15/15 [==============================] - 0s 27ms/step - loss: 0.1149 - accuracy: 0.9658 - val_loss: 0.0337 - val_accuracy: 0.9900\n",
            "Epoch 19/100\n",
            "15/15 [==============================] - 0s 24ms/step - loss: 0.0947 - accuracy: 0.9679 - val_loss: 0.0226 - val_accuracy: 1.0000\n",
            "Epoch 20/100\n",
            "15/15 [==============================] - 0s 26ms/step - loss: 0.0928 - accuracy: 0.9669 - val_loss: 0.0304 - val_accuracy: 1.0000\n",
            "Epoch 21/100\n",
            "15/15 [==============================] - 0s 26ms/step - loss: 0.0796 - accuracy: 0.9740 - val_loss: 0.0476 - val_accuracy: 0.9800\n",
            "Epoch 22/100\n",
            "15/15 [==============================] - 0s 25ms/step - loss: 0.0971 - accuracy: 0.9649 - val_loss: 0.0239 - val_accuracy: 1.0000\n",
            "Epoch 23/100\n",
            "15/15 [==============================] - 0s 28ms/step - loss: 0.0786 - accuracy: 0.9701 - val_loss: 0.0363 - val_accuracy: 0.9900\n",
            "Epoch 24/100\n",
            "15/15 [==============================] - 0s 25ms/step - loss: 0.0712 - accuracy: 0.9729 - val_loss: 0.0301 - val_accuracy: 0.9900\n",
            "Epoch 25/100\n",
            "15/15 [==============================] - 0s 25ms/step - loss: 0.0823 - accuracy: 0.9682 - val_loss: 0.0305 - val_accuracy: 0.9900\n",
            "Epoch 26/100\n",
            "15/15 [==============================] - 0s 25ms/step - loss: 0.0967 - accuracy: 0.9658 - val_loss: 0.0246 - val_accuracy: 1.0000\n",
            "Epoch 27/100\n",
            "15/15 [==============================] - 0s 25ms/step - loss: 0.0668 - accuracy: 0.9722 - val_loss: 0.0390 - val_accuracy: 0.9800\n",
            "Epoch 28/100\n",
            "15/15 [==============================] - 0s 26ms/step - loss: 0.0771 - accuracy: 0.9708 - val_loss: 0.0276 - val_accuracy: 0.9800\n",
            "Epoch 29/100\n",
            "15/15 [==============================] - 0s 26ms/step - loss: 0.0675 - accuracy: 0.9733 - val_loss: 0.0230 - val_accuracy: 1.0000\n",
            "Epoch 30/100\n",
            "15/15 [==============================] - 0s 26ms/step - loss: 0.0714 - accuracy: 0.9733 - val_loss: 0.0328 - val_accuracy: 0.9900\n",
            "Epoch 31/100\n",
            "15/15 [==============================] - 0s 26ms/step - loss: 0.0675 - accuracy: 0.9744 - val_loss: 0.0206 - val_accuracy: 0.9900\n",
            "Epoch 32/100\n",
            "15/15 [==============================] - 0s 21ms/step - loss: 0.0865 - accuracy: 0.9690 - val_loss: 0.0230 - val_accuracy: 1.0000\n",
            "Epoch 33/100\n",
            "15/15 [==============================] - 0s 26ms/step - loss: 0.0772 - accuracy: 0.9722 - val_loss: 0.0283 - val_accuracy: 0.9900\n",
            "Epoch 34/100\n",
            "15/15 [==============================] - 0s 26ms/step - loss: 0.0699 - accuracy: 0.9722 - val_loss: 0.0247 - val_accuracy: 1.0000\n",
            "Epoch 35/100\n",
            "15/15 [==============================] - 0s 26ms/step - loss: 0.0725 - accuracy: 0.9744 - val_loss: 0.0171 - val_accuracy: 1.0000\n",
            "Epoch 36/100\n",
            "15/15 [==============================] - 0s 25ms/step - loss: 0.0722 - accuracy: 0.9722 - val_loss: 0.0188 - val_accuracy: 1.0000\n",
            "Epoch 37/100\n",
            "15/15 [==============================] - 0s 26ms/step - loss: 0.0651 - accuracy: 0.9786 - val_loss: 0.0217 - val_accuracy: 1.0000\n",
            "Epoch 38/100\n",
            "15/15 [==============================] - 0s 29ms/step - loss: 0.0607 - accuracy: 0.9754 - val_loss: 0.0140 - val_accuracy: 1.0000\n",
            "Epoch 39/100\n",
            "15/15 [==============================] - 1s 38ms/step - loss: 0.0749 - accuracy: 0.9744 - val_loss: 0.0202 - val_accuracy: 1.0000\n",
            "Epoch 40/100\n",
            "15/15 [==============================] - 1s 36ms/step - loss: 0.0611 - accuracy: 0.9760 - val_loss: 0.0252 - val_accuracy: 0.9900\n",
            "Epoch 41/100\n",
            "15/15 [==============================] - 1s 35ms/step - loss: 0.0538 - accuracy: 0.9808 - val_loss: 0.0267 - val_accuracy: 0.9900\n",
            "Epoch 42/100\n",
            "15/15 [==============================] - 1s 35ms/step - loss: 0.0529 - accuracy: 0.9814 - val_loss: 0.0349 - val_accuracy: 0.9700\n",
            "Epoch 43/100\n",
            "15/15 [==============================] - 1s 36ms/step - loss: 0.0632 - accuracy: 0.9750 - val_loss: 0.0258 - val_accuracy: 0.9900\n",
            "Epoch 44/100\n",
            "15/15 [==============================] - 1s 36ms/step - loss: 0.0675 - accuracy: 0.9712 - val_loss: 0.0224 - val_accuracy: 0.9900\n",
            "Epoch 45/100\n",
            "15/15 [==============================] - 1s 37ms/step - loss: 0.0733 - accuracy: 0.9722 - val_loss: 0.0501 - val_accuracy: 0.9800\n",
            "Epoch 46/100\n",
            "15/15 [==============================] - 1s 37ms/step - loss: 0.0724 - accuracy: 0.9712 - val_loss: 0.0489 - val_accuracy: 0.9800\n",
            "Epoch 47/100\n",
            "15/15 [==============================] - 1s 36ms/step - loss: 0.0760 - accuracy: 0.9754 - val_loss: 0.0326 - val_accuracy: 0.9800\n",
            "Epoch 48/100\n",
            "15/15 [==============================] - 1s 34ms/step - loss: 0.0530 - accuracy: 0.9786 - val_loss: 0.0224 - val_accuracy: 0.9900\n",
            "Epoch 49/100\n",
            "15/15 [==============================] - 1s 36ms/step - loss: 0.0464 - accuracy: 0.9829 - val_loss: 0.0156 - val_accuracy: 1.0000\n",
            "Epoch 50/100\n",
            "15/15 [==============================] - 1s 35ms/step - loss: 0.0624 - accuracy: 0.9786 - val_loss: 0.0200 - val_accuracy: 0.9900\n",
            "Epoch 51/100\n",
            "15/15 [==============================] - 1s 36ms/step - loss: 0.0501 - accuracy: 0.9792 - val_loss: 0.0247 - val_accuracy: 0.9900\n",
            "Epoch 52/100\n",
            "15/15 [==============================] - 1s 35ms/step - loss: 0.0709 - accuracy: 0.9759 - val_loss: 0.0331 - val_accuracy: 0.9900\n",
            "Epoch 53/100\n",
            "15/15 [==============================] - 1s 35ms/step - loss: 0.0587 - accuracy: 0.9792 - val_loss: 0.0177 - val_accuracy: 1.0000\n",
            "Epoch 54/100\n",
            "15/15 [==============================] - 1s 37ms/step - loss: 0.0545 - accuracy: 0.9850 - val_loss: 0.0193 - val_accuracy: 1.0000\n",
            "Epoch 55/100\n",
            "15/15 [==============================] - 1s 35ms/step - loss: 0.0543 - accuracy: 0.9770 - val_loss: 0.0612 - val_accuracy: 0.9600\n",
            "Epoch 56/100\n",
            "15/15 [==============================] - 1s 37ms/step - loss: 0.0475 - accuracy: 0.9833 - val_loss: 0.0220 - val_accuracy: 0.9900\n",
            "Epoch 57/100\n",
            "15/15 [==============================] - 0s 29ms/step - loss: 0.0609 - accuracy: 0.9818 - val_loss: 0.0340 - val_accuracy: 0.9700\n",
            "Epoch 58/100\n",
            "15/15 [==============================] - 0s 26ms/step - loss: 0.0397 - accuracy: 0.9850 - val_loss: 0.0270 - val_accuracy: 0.9900\n",
            "Epoch 59/100\n",
            "15/15 [==============================] - 0s 26ms/step - loss: 0.0599 - accuracy: 0.9781 - val_loss: 0.0247 - val_accuracy: 1.0000\n",
            "Epoch 60/100\n",
            "15/15 [==============================] - 0s 26ms/step - loss: 0.0595 - accuracy: 0.9760 - val_loss: 0.0329 - val_accuracy: 0.9900\n",
            "Epoch 61/100\n",
            "15/15 [==============================] - 0s 26ms/step - loss: 0.0658 - accuracy: 0.9744 - val_loss: 0.0245 - val_accuracy: 0.9900\n",
            "Epoch 62/100\n",
            "15/15 [==============================] - 0s 27ms/step - loss: 0.0529 - accuracy: 0.9786 - val_loss: 0.0412 - val_accuracy: 0.9800\n",
            "Epoch 63/100\n",
            "15/15 [==============================] - 0s 26ms/step - loss: 0.0568 - accuracy: 0.9808 - val_loss: 0.0275 - val_accuracy: 0.9900\n",
            "Epoch 64/100\n",
            "15/15 [==============================] - 0s 21ms/step - loss: 0.0616 - accuracy: 0.9765 - val_loss: 0.0186 - val_accuracy: 1.0000\n",
            "Epoch 65/100\n",
            "15/15 [==============================] - 0s 26ms/step - loss: 0.0532 - accuracy: 0.9861 - val_loss: 0.0196 - val_accuracy: 0.9900\n",
            "Epoch 66/100\n",
            "15/15 [==============================] - 0s 26ms/step - loss: 0.0490 - accuracy: 0.9833 - val_loss: 0.0225 - val_accuracy: 1.0000\n",
            "Epoch 67/100\n",
            "15/15 [==============================] - 0s 25ms/step - loss: 0.0456 - accuracy: 0.9825 - val_loss: 0.0238 - val_accuracy: 0.9800\n",
            "Epoch 68/100\n",
            "15/15 [==============================] - 0s 25ms/step - loss: 0.0459 - accuracy: 0.9840 - val_loss: 0.0188 - val_accuracy: 1.0000\n",
            "Epoch 69/100\n",
            "15/15 [==============================] - 0s 26ms/step - loss: 0.0472 - accuracy: 0.9865 - val_loss: 0.0187 - val_accuracy: 1.0000\n",
            "Epoch 70/100\n",
            "15/15 [==============================] - 0s 25ms/step - loss: 0.0437 - accuracy: 0.9861 - val_loss: 0.0216 - val_accuracy: 0.9900\n",
            "Epoch 71/100\n",
            "15/15 [==============================] - 0s 26ms/step - loss: 0.0526 - accuracy: 0.9825 - val_loss: 0.0177 - val_accuracy: 1.0000\n",
            "Epoch 72/100\n",
            "15/15 [==============================] - 0s 25ms/step - loss: 0.0497 - accuracy: 0.9786 - val_loss: 0.0174 - val_accuracy: 1.0000\n",
            "Epoch 73/100\n",
            "15/15 [==============================] - 0s 26ms/step - loss: 0.0591 - accuracy: 0.9808 - val_loss: 0.0310 - val_accuracy: 0.9900\n",
            "Epoch 74/100\n",
            "15/15 [==============================] - 0s 25ms/step - loss: 0.0533 - accuracy: 0.9776 - val_loss: 0.0339 - val_accuracy: 0.9900\n",
            "Epoch 75/100\n",
            "15/15 [==============================] - 0s 25ms/step - loss: 0.0385 - accuracy: 0.9875 - val_loss: 0.0261 - val_accuracy: 0.9900\n",
            "Epoch 76/100\n",
            "15/15 [==============================] - 0s 25ms/step - loss: 0.0527 - accuracy: 0.9792 - val_loss: 0.0529 - val_accuracy: 0.9700\n",
            "Epoch 77/100\n",
            "15/15 [==============================] - 0s 26ms/step - loss: 0.0328 - accuracy: 0.9854 - val_loss: 0.0464 - val_accuracy: 0.9800\n",
            "Epoch 78/100\n",
            "15/15 [==============================] - 0s 26ms/step - loss: 0.0535 - accuracy: 0.9840 - val_loss: 0.0358 - val_accuracy: 0.9900\n",
            "Epoch 79/100\n",
            "15/15 [==============================] - 0s 26ms/step - loss: 0.0615 - accuracy: 0.9825 - val_loss: 0.0270 - val_accuracy: 0.9800\n",
            "Epoch 80/100\n",
            "15/15 [==============================] - 0s 20ms/step - loss: 0.0471 - accuracy: 0.9854 - val_loss: 0.0207 - val_accuracy: 1.0000\n",
            "Epoch 81/100\n",
            "15/15 [==============================] - 0s 25ms/step - loss: 0.0394 - accuracy: 0.9840 - val_loss: 0.0220 - val_accuracy: 1.0000\n",
            "Epoch 82/100\n",
            "15/15 [==============================] - 0s 26ms/step - loss: 0.0395 - accuracy: 0.9872 - val_loss: 0.0302 - val_accuracy: 0.9900\n",
            "Epoch 83/100\n",
            "15/15 [==============================] - 0s 26ms/step - loss: 0.0366 - accuracy: 0.9893 - val_loss: 0.0327 - val_accuracy: 0.9800\n",
            "Epoch 84/100\n",
            "15/15 [==============================] - 0s 26ms/step - loss: 0.0571 - accuracy: 0.9797 - val_loss: 0.0301 - val_accuracy: 0.9900\n",
            "Epoch 85/100\n",
            "15/15 [==============================] - 0s 25ms/step - loss: 0.0447 - accuracy: 0.9808 - val_loss: 0.0269 - val_accuracy: 1.0000\n",
            "Epoch 86/100\n",
            "15/15 [==============================] - 0s 25ms/step - loss: 0.0518 - accuracy: 0.9818 - val_loss: 0.0303 - val_accuracy: 0.9800\n",
            "Epoch 87/100\n",
            "15/15 [==============================] - 0s 26ms/step - loss: 0.0530 - accuracy: 0.9771 - val_loss: 0.0352 - val_accuracy: 0.9800\n",
            "Epoch 88/100\n",
            "15/15 [==============================] - 0s 25ms/step - loss: 0.0414 - accuracy: 0.9857 - val_loss: 0.0522 - val_accuracy: 0.9700\n",
            "Epoch 89/100\n",
            "15/15 [==============================] - 0s 25ms/step - loss: 0.0383 - accuracy: 0.9850 - val_loss: 0.0328 - val_accuracy: 0.9900\n",
            "Epoch 90/100\n",
            "15/15 [==============================] - 0s 26ms/step - loss: 0.0419 - accuracy: 0.9854 - val_loss: 0.0430 - val_accuracy: 0.9600\n",
            "Epoch 91/100\n",
            "15/15 [==============================] - 0s 25ms/step - loss: 0.0407 - accuracy: 0.9829 - val_loss: 0.0342 - val_accuracy: 0.9700\n",
            "Epoch 92/100\n",
            "15/15 [==============================] - 0s 26ms/step - loss: 0.0398 - accuracy: 0.9829 - val_loss: 0.0305 - val_accuracy: 0.9900\n",
            "Epoch 93/100\n",
            "15/15 [==============================] - 0s 26ms/step - loss: 0.0445 - accuracy: 0.9808 - val_loss: 0.0230 - val_accuracy: 0.9900\n",
            "Epoch 94/100\n",
            "15/15 [==============================] - 0s 27ms/step - loss: 0.0406 - accuracy: 0.9861 - val_loss: 0.0197 - val_accuracy: 1.0000\n",
            "Epoch 95/100\n",
            "15/15 [==============================] - 0s 26ms/step - loss: 0.0399 - accuracy: 0.9868 - val_loss: 0.0421 - val_accuracy: 0.9900\n",
            "Epoch 96/100\n",
            "15/15 [==============================] - 0s 21ms/step - loss: 0.0361 - accuracy: 0.9875 - val_loss: 0.0190 - val_accuracy: 1.0000\n",
            "Epoch 97/100\n",
            "15/15 [==============================] - 0s 26ms/step - loss: 0.0309 - accuracy: 0.9893 - val_loss: 0.0324 - val_accuracy: 0.9900\n",
            "Epoch 98/100\n",
            "15/15 [==============================] - 0s 26ms/step - loss: 0.0384 - accuracy: 0.9896 - val_loss: 0.0191 - val_accuracy: 1.0000\n",
            "Epoch 99/100\n",
            "15/15 [==============================] - 0s 25ms/step - loss: 0.0303 - accuracy: 0.9868 - val_loss: 0.0214 - val_accuracy: 0.9900\n",
            "Epoch 100/100\n",
            "15/15 [==============================] - 0s 26ms/step - loss: 0.0341 - accuracy: 0.9875 - val_loss: 0.0202 - val_accuracy: 1.0000\n"
          ],
          "name": "stdout"
        },
        {
          "output_type": "execute_result",
          "data": {
            "text/plain": [
              "<keras.callbacks.callbacks.History at 0x7fabe3f7aa20>"
            ]
          },
          "metadata": {
            "tags": []
          },
          "execution_count": 177
        }
      ]
    },
    {
      "cell_type": "code",
      "metadata": {
        "id": "XRgsTsnZXCTg",
        "colab_type": "code",
        "colab": {
          "base_uri": "https://localhost:8080/",
          "height": 1000
        },
        "outputId": "ab88bb11-bf37-4b4f-90e6-456e9248aefa"
      },
      "source": [
        "#4.\tSanity Check:Keep constant learning rate=0.001 and increase regularization\n",
        "#(i) Regularization= 0 (no regularization)\n",
        "Weight_Decay=0 ;Learning_Rate=0.001\n",
        "model = define_model(Weight_Decay,Learning_Rate)\n",
        "datagen = ImageDataGenerator(rotation_range=15,width_shift_range=0.1,height_shift_range=0.1,horizontal_flip=True,)\n",
        "datagen.fit(trainX)\n",
        "model.fit_generator(datagen.flow(trainX,trainY, batch_size=64),\n",
        "                    steps_per_epoch=trainX.shape[0] // batch_size,epochs=10,\n",
        "                    verbose=1,validation_data=(testX,testY))\n",
        "#(ii) Regularization= 1000 (no regularization)\n",
        "Weight_Decay=1000 ;Learning_Rate=0.001\n",
        "model = define_model(Weight_Decay,Learning_Rate)\n",
        "datagen = ImageDataGenerator(rotation_range=15,width_shift_range=0.1,height_shift_range=0.1,horizontal_flip=True,)\n",
        "datagen.fit(trainX)\n",
        "model.fit_generator(datagen.flow(trainX,trainY, batch_size=64),\n",
        "                    steps_per_epoch=trainX.shape[0] // batch_size,epochs=10,\n",
        "                    verbose=1,validation_data=(testX,testY))\n",
        "#(iii) Regularization= 10000 (no regularization)\n",
        "Weight_Decay=10000 ;Learning_Rate=0.001\n",
        "model = define_model(Weight_Decay,Learning_Rate)\n",
        "datagen = ImageDataGenerator(rotation_range=15,width_shift_range=0.1,height_shift_range=0.1,horizontal_flip=True,)\n",
        "datagen.fit(trainX)\n",
        "model.fit_generator(datagen.flow(trainX,trainY, batch_size=64),\n",
        "                    steps_per_epoch=trainX.shape[0] // batch_size,epochs=10,\n",
        "                    verbose=1,validation_data=(testX,testY))\n"
      ],
      "execution_count": 178,
      "outputs": [
        {
          "output_type": "stream",
          "text": [
            "Epoch 1/10\n",
            "15/15 [==============================] - 0s 24ms/step - loss: 1.0008 - accuracy: 0.6368 - val_loss: 0.4378 - val_accuracy: 0.8300\n",
            "Epoch 2/10\n",
            "15/15 [==============================] - 0s 24ms/step - loss: 0.4529 - accuracy: 0.8237 - val_loss: 0.3230 - val_accuracy: 0.8500\n",
            "Epoch 3/10\n",
            "15/15 [==============================] - 0s 25ms/step - loss: 0.3172 - accuracy: 0.8600 - val_loss: 0.2546 - val_accuracy: 0.8800\n",
            "Epoch 4/10\n",
            "15/15 [==============================] - 0s 26ms/step - loss: 0.2754 - accuracy: 0.8846 - val_loss: 0.2255 - val_accuracy: 0.8800\n",
            "Epoch 5/10\n",
            "15/15 [==============================] - 0s 25ms/step - loss: 0.2304 - accuracy: 0.9167 - val_loss: 0.2062 - val_accuracy: 0.8900\n",
            "Epoch 6/10\n",
            "15/15 [==============================] - 0s 25ms/step - loss: 0.2392 - accuracy: 0.8964 - val_loss: 0.1876 - val_accuracy: 0.8900\n",
            "Epoch 7/10\n",
            "15/15 [==============================] - 0s 25ms/step - loss: 0.2205 - accuracy: 0.9115 - val_loss: 0.1708 - val_accuracy: 0.9200\n",
            "Epoch 8/10\n",
            "15/15 [==============================] - 0s 25ms/step - loss: 0.1984 - accuracy: 0.9316 - val_loss: 0.1620 - val_accuracy: 0.9400\n",
            "Epoch 9/10\n",
            "15/15 [==============================] - 0s 25ms/step - loss: 0.2014 - accuracy: 0.9200 - val_loss: 0.1509 - val_accuracy: 0.9200\n",
            "Epoch 10/10\n",
            "15/15 [==============================] - 0s 26ms/step - loss: 0.1953 - accuracy: 0.9135 - val_loss: 0.1447 - val_accuracy: 0.9400\n",
            "Epoch 1/10\n",
            "15/15 [==============================] - 0s 23ms/step - loss: 21010.9762 - accuracy: 0.5011 - val_loss: 16517.9791 - val_accuracy: 0.4800\n",
            "Epoch 2/10\n",
            "15/15 [==============================] - 0s 25ms/step - loss: 4669.8544 - accuracy: 0.4722 - val_loss: 1744.2582 - val_accuracy: 0.3400\n",
            "Epoch 3/10\n",
            "15/15 [==============================] - 0s 25ms/step - loss: 911.9263 - accuracy: 0.4896 - val_loss: 1.5431 - val_accuracy: 0.6900\n",
            "Epoch 4/10\n",
            "15/15 [==============================] - 0s 26ms/step - loss: 173.3437 - accuracy: 0.5044 - val_loss: 69.4908 - val_accuracy: 0.6700\n",
            "Epoch 5/10\n",
            "15/15 [==============================] - 0s 25ms/step - loss: 38.4564 - accuracy: 0.5085 - val_loss: 30.3574 - val_accuracy: 0.5100\n",
            "Epoch 6/10\n",
            "15/15 [==============================] - 0s 25ms/step - loss: 9.1241 - accuracy: 0.4786 - val_loss: 4.0442 - val_accuracy: 0.4600\n",
            "Epoch 7/10\n",
            "15/15 [==============================] - 0s 26ms/step - loss: 2.3999 - accuracy: 0.5104 - val_loss: 0.8064 - val_accuracy: 0.5000\n",
            "Epoch 8/10\n",
            "15/15 [==============================] - 0s 25ms/step - loss: 1.0791 - accuracy: 0.4803 - val_loss: 0.9361 - val_accuracy: 0.4500\n",
            "Epoch 9/10\n",
            "15/15 [==============================] - 0s 26ms/step - loss: 0.8331 - accuracy: 0.5396 - val_loss: 0.7773 - val_accuracy: 0.5800\n",
            "Epoch 10/10\n",
            "15/15 [==============================] - 0s 26ms/step - loss: 0.7701 - accuracy: 0.5278 - val_loss: 0.7479 - val_accuracy: 0.7100\n",
            "Epoch 1/10\n",
            "15/15 [==============================] - 0s 24ms/step - loss: inf - accuracy: 0.5331 - val_loss: inf - val_accuracy: 0.5000\n",
            "Epoch 2/10\n",
            "15/15 [==============================] - 0s 23ms/step - loss: nan - accuracy: 0.5021 - val_loss: nan - val_accuracy: 0.5000\n",
            "Epoch 3/10\n",
            "15/15 [==============================] - 0s 24ms/step - loss: nan - accuracy: 0.5150 - val_loss: nan - val_accuracy: 0.5000\n",
            "Epoch 4/10\n",
            "15/15 [==============================] - 0s 25ms/step - loss: nan - accuracy: 0.4861 - val_loss: nan - val_accuracy: 0.5000\n",
            "Epoch 5/10\n",
            "15/15 [==============================] - 0s 25ms/step - loss: nan - accuracy: 0.5235 - val_loss: nan - val_accuracy: 0.5000\n",
            "Epoch 6/10\n",
            "15/15 [==============================] - 0s 26ms/step - loss: nan - accuracy: 0.4722 - val_loss: nan - val_accuracy: 0.5000\n",
            "Epoch 7/10\n",
            "15/15 [==============================] - 0s 26ms/step - loss: nan - accuracy: 0.5010 - val_loss: nan - val_accuracy: 0.5000\n",
            "Epoch 8/10\n",
            "15/15 [==============================] - 0s 26ms/step - loss: nan - accuracy: 0.5043 - val_loss: nan - val_accuracy: 0.5000\n",
            "Epoch 9/10\n",
            "15/15 [==============================] - 0s 26ms/step - loss: nan - accuracy: 0.5121 - val_loss: nan - val_accuracy: 0.5000\n",
            "Epoch 10/10\n",
            "15/15 [==============================] - 0s 25ms/step - loss: nan - accuracy: 0.4948 - val_loss: nan - val_accuracy: 0.5000\n"
          ],
          "name": "stdout"
        },
        {
          "output_type": "execute_result",
          "data": {
            "text/plain": [
              "<keras.callbacks.callbacks.History at 0x7fabe717bf60>"
            ]
          },
          "metadata": {
            "tags": []
          },
          "execution_count": 178
        }
      ]
    },
    {
      "cell_type": "code",
      "metadata": {
        "id": "2IcfGfu5XCdF",
        "colab_type": "code",
        "colab": {
          "base_uri": "https://localhost:8080/",
          "height": 1000
        },
        "outputId": "4dbe8a29-5c0f-4dd0-84bb-f5dcb4a27516"
      },
      "source": [
        "#5.\tSanity Check 2:For a constant Regularization=0.001 and change Learning \n",
        "#(i) Learning Rate=1e-6 \n",
        "Weight_Decay=0.001 ;Learning_Rate=1e-6\n",
        "model = define_model(Weight_Decay,Learning_Rate)\n",
        "datagen = ImageDataGenerator(rotation_range=15,width_shift_range=0.1,height_shift_range=0.1,horizontal_flip=True,)\n",
        "datagen.fit(trainX)\n",
        "model.fit_generator(datagen.flow(trainX,trainY, batch_size=64),\n",
        "                    steps_per_epoch=trainX.shape[0] // batch_size,epochs=10,\n",
        "                    verbose=1,validation_data=(testX,testY))\n",
        "\n",
        "\n",
        "#(i) Learning Rate=1e-3\n",
        "Weight_Decay=0.001 ;Learning_Rate=1e-3\n",
        "model = define_model(Weight_Decay,Learning_Rate)\n",
        "datagen = ImageDataGenerator(rotation_range=15,width_shift_range=0.1,height_shift_range=0.1,horizontal_flip=True,)\n",
        "datagen.fit(trainX)\n",
        "model.fit_generator(datagen.flow(trainX,trainY, batch_size=64),\n",
        "                    steps_per_epoch=trainX.shape[0] // batch_size,epochs=10,\n",
        "                    verbose=1,validation_data=(testX,testY))\n",
        "\n",
        "#(i) Learning Rate=1e1    \n",
        "Weight_Decay=0.001 ;Learning_Rate=1e1\n",
        "model = define_model(Weight_Decay,Learning_Rate)\n",
        "datagen = ImageDataGenerator(rotation_range=15,width_shift_range=0.1,height_shift_range=0.1,horizontal_flip=True,)\n",
        "datagen.fit(trainX)\n",
        "model.fit_generator(datagen.flow(trainX,trainY, batch_size=64),\n",
        "                    steps_per_epoch=trainX.shape[0] // batch_size,epochs=10,\n",
        "                    verbose=1,validation_data=(testX,testY))\n"
      ],
      "execution_count": 179,
      "outputs": [
        {
          "output_type": "stream",
          "text": [
            "Epoch 1/10\n",
            "15/15 [==============================] - 0s 24ms/step - loss: 0.9359 - accuracy: 0.4786 - val_loss: 0.8041 - val_accuracy: 0.4700\n",
            "Epoch 2/10\n",
            "15/15 [==============================] - 0s 24ms/step - loss: 0.9271 - accuracy: 0.4669 - val_loss: 0.8000 - val_accuracy: 0.4700\n",
            "Epoch 3/10\n",
            "15/15 [==============================] - 0s 26ms/step - loss: 0.9156 - accuracy: 0.4626 - val_loss: 0.7959 - val_accuracy: 0.4700\n",
            "Epoch 4/10\n",
            "15/15 [==============================] - 0s 25ms/step - loss: 0.9160 - accuracy: 0.4744 - val_loss: 0.7918 - val_accuracy: 0.4600\n",
            "Epoch 5/10\n",
            "15/15 [==============================] - 0s 25ms/step - loss: 0.9027 - accuracy: 0.4875 - val_loss: 0.7877 - val_accuracy: 0.4700\n",
            "Epoch 6/10\n",
            "15/15 [==============================] - 0s 26ms/step - loss: 0.9208 - accuracy: 0.4386 - val_loss: 0.7839 - val_accuracy: 0.4800\n",
            "Epoch 7/10\n",
            "15/15 [==============================] - 0s 25ms/step - loss: 0.8884 - accuracy: 0.4781 - val_loss: 0.7800 - val_accuracy: 0.4800\n",
            "Epoch 8/10\n",
            "15/15 [==============================] - 0s 25ms/step - loss: 0.8983 - accuracy: 0.4792 - val_loss: 0.7762 - val_accuracy: 0.4800\n",
            "Epoch 9/10\n",
            "15/15 [==============================] - 0s 25ms/step - loss: 0.8639 - accuracy: 0.4786 - val_loss: 0.7726 - val_accuracy: 0.4900\n",
            "Epoch 10/10\n",
            "15/15 [==============================] - 0s 24ms/step - loss: 0.8757 - accuracy: 0.4936 - val_loss: 0.7692 - val_accuracy: 0.4900\n",
            "Epoch 1/10\n",
            "15/15 [==============================] - 0s 25ms/step - loss: 0.6491 - accuracy: 0.7190 - val_loss: 0.4366 - val_accuracy: 0.8100\n",
            "Epoch 2/10\n",
            "15/15 [==============================] - 0s 23ms/step - loss: 0.4365 - accuracy: 0.8301 - val_loss: 0.3608 - val_accuracy: 0.8400\n",
            "Epoch 3/10\n",
            "15/15 [==============================] - 0s 27ms/step - loss: 0.3810 - accuracy: 0.8600 - val_loss: 0.3006 - val_accuracy: 0.9000\n",
            "Epoch 4/10\n",
            "15/15 [==============================] - 0s 24ms/step - loss: 0.3326 - accuracy: 0.8846 - val_loss: 0.2507 - val_accuracy: 0.9000\n",
            "Epoch 5/10\n",
            "15/15 [==============================] - 0s 25ms/step - loss: 0.3051 - accuracy: 0.8979 - val_loss: 0.2278 - val_accuracy: 0.9100\n",
            "Epoch 6/10\n",
            "15/15 [==============================] - 0s 25ms/step - loss: 0.3033 - accuracy: 0.8838 - val_loss: 0.2216 - val_accuracy: 0.9100\n",
            "Epoch 7/10\n",
            "15/15 [==============================] - 0s 27ms/step - loss: 0.2743 - accuracy: 0.9073 - val_loss: 0.2043 - val_accuracy: 0.9300\n",
            "Epoch 8/10\n",
            "15/15 [==============================] - 0s 25ms/step - loss: 0.2526 - accuracy: 0.9243 - val_loss: 0.1909 - val_accuracy: 0.9300\n",
            "Epoch 9/10\n",
            "15/15 [==============================] - 0s 25ms/step - loss: 0.2524 - accuracy: 0.9188 - val_loss: 0.1828 - val_accuracy: 0.9400\n",
            "Epoch 10/10\n",
            "15/15 [==============================] - 0s 25ms/step - loss: 0.2493 - accuracy: 0.9146 - val_loss: 0.1854 - val_accuracy: 0.9400\n",
            "Epoch 1/10\n",
            "15/15 [==============================] - 0s 24ms/step - loss: nan - accuracy: 0.4829 - val_loss: nan - val_accuracy: 0.5000\n",
            "Epoch 2/10\n",
            "15/15 [==============================] - 0s 23ms/step - loss: nan - accuracy: 0.5139 - val_loss: nan - val_accuracy: 0.5000\n",
            "Epoch 3/10\n",
            "15/15 [==============================] - 0s 27ms/step - loss: nan - accuracy: 0.4936 - val_loss: nan - val_accuracy: 0.5000\n",
            "Epoch 4/10\n",
            "15/15 [==============================] - 0s 25ms/step - loss: nan - accuracy: 0.5011 - val_loss: nan - val_accuracy: 0.5000\n",
            "Epoch 5/10\n",
            "15/15 [==============================] - 0s 27ms/step - loss: nan - accuracy: 0.4968 - val_loss: nan - val_accuracy: 0.5000\n",
            "Epoch 6/10\n",
            "15/15 [==============================] - 0s 24ms/step - loss: nan - accuracy: 0.4872 - val_loss: nan - val_accuracy: 0.5000\n",
            "Epoch 7/10\n",
            "15/15 [==============================] - 0s 26ms/step - loss: nan - accuracy: 0.5156 - val_loss: nan - val_accuracy: 0.5000\n",
            "Epoch 8/10\n",
            "15/15 [==============================] - 0s 25ms/step - loss: nan - accuracy: 0.4967 - val_loss: nan - val_accuracy: 0.5000\n",
            "Epoch 9/10\n",
            "15/15 [==============================] - 0s 26ms/step - loss: nan - accuracy: 0.4969 - val_loss: nan - val_accuracy: 0.5000\n",
            "Epoch 10/10\n",
            "15/15 [==============================] - 0s 26ms/step - loss: nan - accuracy: 0.5143 - val_loss: nan - val_accuracy: 0.5000\n"
          ],
          "name": "stdout"
        },
        {
          "output_type": "execute_result",
          "data": {
            "text/plain": [
              "<keras.callbacks.callbacks.History at 0x7fabe6e567f0>"
            ]
          },
          "metadata": {
            "tags": []
          },
          "execution_count": 179
        }
      ]
    },
    {
      "cell_type": "code",
      "metadata": {
        "id": "_x4AJGoi-mch",
        "colab_type": "code",
        "colab": {
          "base_uri": "https://localhost:8080/",
          "height": 1000
        },
        "outputId": "643ccc50-2629-448f-bd18-1ec1cc8977d4"
      },
      "source": [
        "#Hyperparameter Tuning\n",
        "max_count=10\n",
        "for count in range(max_count):\n",
        "  REG=10**random.uniform(-6,0)\n",
        "  LR=10**random.uniform(-6,-1)  \n",
        "  model = define_model(REG,LR)\n",
        "  print('Regularization=',REG,'Learning Rate=',LR)\n",
        "  datagen = ImageDataGenerator(rotation_range=15,width_shift_range=0.1,height_shift_range=0.1,horizontal_flip=True,)\n",
        "  datagen.fit(trainX)\n",
        "  model.fit_generator(datagen.flow(trainX,trainY, batch_size=64),\n",
        "                      steps_per_epoch=trainX.shape[0] // batch_size,epochs=5,\n",
        "                      verbose=1,validation_data=(testX,testY))"
      ],
      "execution_count": 180,
      "outputs": [
        {
          "output_type": "stream",
          "text": [
            "Regularization= 1.378918119766699e-06 Learning Rate= 0.006672752695761951\n",
            "Epoch 1/5\n",
            "15/15 [==============================] - 0s 24ms/step - loss: 0.4919 - accuracy: 0.7714 - val_loss: 0.2484 - val_accuracy: 0.8800\n",
            "Epoch 2/5\n",
            "15/15 [==============================] - 0s 24ms/step - loss: 0.2781 - accuracy: 0.8846 - val_loss: 0.1506 - val_accuracy: 0.9400\n",
            "Epoch 3/5\n",
            "15/15 [==============================] - 0s 25ms/step - loss: 0.2116 - accuracy: 0.9167 - val_loss: 0.1377 - val_accuracy: 0.9400\n",
            "Epoch 4/5\n",
            "15/15 [==============================] - 0s 25ms/step - loss: 0.1861 - accuracy: 0.9323 - val_loss: 0.1166 - val_accuracy: 0.9600\n",
            "Epoch 5/5\n",
            "15/15 [==============================] - 0s 25ms/step - loss: 0.1642 - accuracy: 0.9397 - val_loss: 0.1054 - val_accuracy: 0.9600\n",
            "Regularization= 0.004672769145164078 Learning Rate= 0.06954363238679744\n",
            "Epoch 1/5\n",
            "15/15 [==============================] - 0s 24ms/step - loss: 1.2090 - accuracy: 0.7667 - val_loss: 1.0907 - val_accuracy: 0.9200\n",
            "Epoch 2/5\n",
            "15/15 [==============================] - 0s 24ms/step - loss: 1.5443 - accuracy: 0.8366 - val_loss: 1.0604 - val_accuracy: 0.9000\n",
            "Epoch 3/5\n",
            "15/15 [==============================] - 0s 25ms/step - loss: 3.0546 - accuracy: 0.8333 - val_loss: 1.1780 - val_accuracy: 0.9300\n",
            "Epoch 4/5\n",
            "15/15 [==============================] - 0s 26ms/step - loss: 3.5010 - accuracy: 0.8718 - val_loss: 3.5289 - val_accuracy: 0.9100\n",
            "Epoch 5/5\n",
            "15/15 [==============================] - 0s 25ms/step - loss: 11.1401 - accuracy: 0.8208 - val_loss: 3.9962 - val_accuracy: 0.9100\n",
            "Regularization= 0.6458598652398966 Learning Rate= 0.00029928951102560345\n",
            "Epoch 1/5\n",
            "15/15 [==============================] - 0s 24ms/step - loss: 25.8909 - accuracy: 0.6207 - val_loss: 24.6963 - val_accuracy: 0.7700\n",
            "Epoch 2/5\n",
            "15/15 [==============================] - 0s 23ms/step - loss: 23.5674 - accuracy: 0.7265 - val_loss: 22.1244 - val_accuracy: 0.8400\n",
            "Epoch 3/5\n",
            "15/15 [==============================] - 0s 26ms/step - loss: 21.0060 - accuracy: 0.8013 - val_loss: 19.6525 - val_accuracy: 0.8600\n",
            "Epoch 4/5\n",
            "15/15 [==============================] - 0s 26ms/step - loss: 18.6382 - accuracy: 0.8397 - val_loss: 17.4422 - val_accuracy: 0.8600\n",
            "Epoch 5/5\n",
            "15/15 [==============================] - 0s 25ms/step - loss: 16.5422 - accuracy: 0.8590 - val_loss: 15.4735 - val_accuracy: 0.8800\n",
            "Regularization= 7.059927421525889e-05 Learning Rate= 0.051649768828203116\n",
            "Epoch 1/5\n",
            "15/15 [==============================] - 0s 24ms/step - loss: 0.4538 - accuracy: 0.8280 - val_loss: 0.4446 - val_accuracy: 0.8500\n",
            "Epoch 2/5\n",
            "15/15 [==============================] - 0s 24ms/step - loss: 0.2762 - accuracy: 0.8942 - val_loss: 0.1702 - val_accuracy: 0.9500\n",
            "Epoch 3/5\n",
            "15/15 [==============================] - 0s 26ms/step - loss: 0.2876 - accuracy: 0.9038 - val_loss: 0.0754 - val_accuracy: 0.9700\n",
            "Epoch 4/5\n",
            "15/15 [==============================] - 0s 25ms/step - loss: 0.1947 - accuracy: 0.9274 - val_loss: 0.0746 - val_accuracy: 0.9700\n",
            "Epoch 5/5\n",
            "15/15 [==============================] - 0s 28ms/step - loss: 0.2300 - accuracy: 0.9209 - val_loss: 0.0763 - val_accuracy: 0.9800\n",
            "Regularization= 1.2505381300961297e-06 Learning Rate= 1.0157842068758577e-05\n",
            "Epoch 1/5\n",
            "15/15 [==============================] - 0s 24ms/step - loss: 1.3211 - accuracy: 0.4989 - val_loss: 1.2019 - val_accuracy: 0.5600\n",
            "Epoch 2/5\n",
            "15/15 [==============================] - 0s 24ms/step - loss: 1.2845 - accuracy: 0.5000 - val_loss: 1.0953 - val_accuracy: 0.5500\n",
            "Epoch 3/5\n",
            "15/15 [==============================] - 0s 26ms/step - loss: 1.1354 - accuracy: 0.5096 - val_loss: 0.9799 - val_accuracy: 0.5600\n",
            "Epoch 4/5\n",
            "15/15 [==============================] - 0s 26ms/step - loss: 1.0237 - accuracy: 0.5260 - val_loss: 0.8753 - val_accuracy: 0.5700\n",
            "Epoch 5/5\n",
            "15/15 [==============================] - 0s 26ms/step - loss: 0.8729 - accuracy: 0.5395 - val_loss: 0.7893 - val_accuracy: 0.5800\n",
            "Regularization= 7.679001768150963e-05 Learning Rate= 0.00015113398368785387\n",
            "Epoch 1/5\n",
            "15/15 [==============================] - 0s 24ms/step - loss: 0.8364 - accuracy: 0.5481 - val_loss: 0.6242 - val_accuracy: 0.7100\n",
            "Epoch 2/5\n",
            "15/15 [==============================] - 0s 23ms/step - loss: 0.5705 - accuracy: 0.7254 - val_loss: 0.4939 - val_accuracy: 0.7700\n",
            "Epoch 3/5\n",
            "15/15 [==============================] - 0s 25ms/step - loss: 0.4612 - accuracy: 0.7991 - val_loss: 0.4574 - val_accuracy: 0.8000\n",
            "Epoch 4/5\n",
            "15/15 [==============================] - 0s 25ms/step - loss: 0.4694 - accuracy: 0.7842 - val_loss: 0.4282 - val_accuracy: 0.8000\n",
            "Epoch 5/5\n",
            "15/15 [==============================] - 0s 26ms/step - loss: 0.4219 - accuracy: 0.8259 - val_loss: 0.4087 - val_accuracy: 0.8100\n",
            "Regularization= 1.8149551922958702e-06 Learning Rate= 0.012647435878111202\n",
            "Epoch 1/5\n",
            "15/15 [==============================] - 0s 24ms/step - loss: 0.5477 - accuracy: 0.8152 - val_loss: 0.2078 - val_accuracy: 0.9200\n",
            "Epoch 2/5\n",
            "15/15 [==============================] - 0s 23ms/step - loss: 0.3220 - accuracy: 0.8729 - val_loss: 0.1307 - val_accuracy: 0.9500\n",
            "Epoch 3/5\n",
            "15/15 [==============================] - 0s 26ms/step - loss: 0.2062 - accuracy: 0.9231 - val_loss: 0.1072 - val_accuracy: 0.9500\n",
            "Epoch 4/5\n",
            "15/15 [==============================] - 0s 24ms/step - loss: 0.1929 - accuracy: 0.9306 - val_loss: 0.0982 - val_accuracy: 0.9700\n",
            "Epoch 5/5\n",
            "15/15 [==============================] - 0s 26ms/step - loss: 0.1616 - accuracy: 0.9338 - val_loss: 0.0791 - val_accuracy: 0.9700\n",
            "Regularization= 0.6211057526181109 Learning Rate= 1.2811118865055995e-06\n",
            "Epoch 1/5\n",
            "15/15 [==============================] - 0s 24ms/step - loss: 25.8057 - accuracy: 0.6335 - val_loss: 25.7354 - val_accuracy: 0.7000\n",
            "Epoch 2/5\n",
            "15/15 [==============================] - 0s 24ms/step - loss: 25.8227 - accuracy: 0.6271 - val_loss: 25.7192 - val_accuracy: 0.7000\n",
            "Epoch 3/5\n",
            "15/15 [==============================] - 0s 25ms/step - loss: 25.7881 - accuracy: 0.6442 - val_loss: 25.7019 - val_accuracy: 0.7000\n",
            "Epoch 4/5\n",
            "15/15 [==============================] - 0s 25ms/step - loss: 25.7785 - accuracy: 0.6485 - val_loss: 25.6841 - val_accuracy: 0.7000\n",
            "Epoch 5/5\n",
            "15/15 [==============================] - 0s 27ms/step - loss: 25.7754 - accuracy: 0.6175 - val_loss: 25.6665 - val_accuracy: 0.7000\n",
            "Regularization= 0.012420191551411303 Learning Rate= 0.028249483083693176\n",
            "Epoch 1/5\n",
            "15/15 [==============================] - 0s 26ms/step - loss: 1.6764 - accuracy: 0.7660 - val_loss: 1.0662 - val_accuracy: 0.8500\n",
            "Epoch 2/5\n",
            "15/15 [==============================] - 0s 24ms/step - loss: 1.4229 - accuracy: 0.8104 - val_loss: 0.7833 - val_accuracy: 0.9500\n",
            "Epoch 3/5\n",
            "15/15 [==============================] - 0s 25ms/step - loss: 0.8749 - accuracy: 0.9002 - val_loss: 0.5455 - val_accuracy: 0.9600\n",
            "Epoch 4/5\n",
            "15/15 [==============================] - 0s 26ms/step - loss: 0.5912 - accuracy: 0.9219 - val_loss: 0.4314 - val_accuracy: 0.9800\n",
            "Epoch 5/5\n",
            "15/15 [==============================] - 0s 24ms/step - loss: 0.4872 - accuracy: 0.9364 - val_loss: 0.3592 - val_accuracy: 0.9700\n",
            "Regularization= 7.214573164306247e-05 Learning Rate= 1.4634991022173332e-06\n",
            "Epoch 1/5\n",
            "15/15 [==============================] - 0s 25ms/step - loss: 0.9967 - accuracy: 0.3803 - val_loss: 0.9813 - val_accuracy: 0.3500\n",
            "Epoch 2/5\n",
            "15/15 [==============================] - 0s 23ms/step - loss: 0.9880 - accuracy: 0.3793 - val_loss: 0.9764 - val_accuracy: 0.3500\n",
            "Epoch 3/5\n",
            "15/15 [==============================] - 0s 26ms/step - loss: 0.9835 - accuracy: 0.3846 - val_loss: 0.9709 - val_accuracy: 0.3500\n",
            "Epoch 4/5\n",
            "15/15 [==============================] - 0s 26ms/step - loss: 0.9919 - accuracy: 0.3878 - val_loss: 0.9655 - val_accuracy: 0.3500\n",
            "Epoch 5/5\n",
            "15/15 [==============================] - 0s 25ms/step - loss: 0.9631 - accuracy: 0.3921 - val_loss: 0.9603 - val_accuracy: 0.3500\n"
          ],
          "name": "stdout"
        }
      ]
    },
    {
      "cell_type": "code",
      "metadata": {
        "id": "OehhhJuYZHy-",
        "colab_type": "code",
        "colab": {
          "base_uri": "https://localhost:8080/",
          "height": 374
        },
        "outputId": "441153ee-bfe1-4733-c551-f7a163b22040"
      },
      "source": [
        "# Train for most suitable value Regularization= 0.02597090269567742 Learning Rate= 0.05210002876562015\n",
        "Weight_Decay=0.02597090269567742 ;Learning_Rate=0.05210002876562015\n",
        "model = define_model(Weight_Decay,Learning_Rate)\n",
        "datagen = ImageDataGenerator(rotation_range=15,width_shift_range=0.1,height_shift_range=0.1,horizontal_flip=True,)\n",
        "datagen.fit(trainX)\n",
        "model.fit_generator(datagen.flow(trainX,trainY, batch_size=64),\n",
        "                    steps_per_epoch=trainX.shape[0] // batch_size,epochs=10,\n",
        "                    verbose=1,validation_data=(testX,testY))\n"
      ],
      "execution_count": 181,
      "outputs": [
        {
          "output_type": "stream",
          "text": [
            "Epoch 1/10\n",
            "15/15 [==============================] - 0s 24ms/step - loss: 1.4844 - accuracy: 0.8034 - val_loss: 1.0911 - val_accuracy: 0.8500\n",
            "Epoch 2/10\n",
            "15/15 [==============================] - 0s 23ms/step - loss: 0.9318 - accuracy: 0.8825 - val_loss: 0.5334 - val_accuracy: 0.9700\n",
            "Epoch 3/10\n",
            "15/15 [==============================] - 0s 26ms/step - loss: 0.5268 - accuracy: 0.9220 - val_loss: 0.3055 - val_accuracy: 0.9600\n",
            "Epoch 4/10\n",
            "15/15 [==============================] - 0s 25ms/step - loss: 0.3756 - accuracy: 0.9188 - val_loss: 0.2627 - val_accuracy: 0.9400\n",
            "Epoch 5/10\n",
            "15/15 [==============================] - 0s 25ms/step - loss: 0.3242 - accuracy: 0.9145 - val_loss: 0.2166 - val_accuracy: 0.9600\n",
            "Epoch 6/10\n",
            "15/15 [==============================] - 0s 26ms/step - loss: 0.2703 - accuracy: 0.9354 - val_loss: 0.2331 - val_accuracy: 0.9300\n",
            "Epoch 7/10\n",
            "15/15 [==============================] - 0s 26ms/step - loss: 0.3186 - accuracy: 0.9135 - val_loss: 0.2446 - val_accuracy: 0.9500\n",
            "Epoch 8/10\n",
            "15/15 [==============================] - 0s 25ms/step - loss: 0.2819 - accuracy: 0.9320 - val_loss: 0.1815 - val_accuracy: 0.9700\n",
            "Epoch 9/10\n",
            "15/15 [==============================] - 0s 25ms/step - loss: 0.2805 - accuracy: 0.9187 - val_loss: 0.2066 - val_accuracy: 0.9500\n",
            "Epoch 10/10\n",
            "15/15 [==============================] - 0s 25ms/step - loss: 0.2534 - accuracy: 0.9306 - val_loss: 0.1815 - val_accuracy: 0.9700\n"
          ],
          "name": "stdout"
        },
        {
          "output_type": "execute_result",
          "data": {
            "text/plain": [
              "<keras.callbacks.callbacks.History at 0x7fabe89a5470>"
            ]
          },
          "metadata": {
            "tags": []
          },
          "execution_count": 181
        }
      ]
    },
    {
      "cell_type": "code",
      "metadata": {
        "id": "U-HQ8uxBB2vG",
        "colab_type": "code",
        "colab": {
          "base_uri": "https://localhost:8080/",
          "height": 34
        },
        "outputId": "70ad1e5e-3e9d-4063-d259-b561a5997f59"
      },
      "source": [
        "# evaluate model\n",
        "_, acc = model.evaluate(testX, testY, verbose=0)\n",
        "print('> %.3f' % (acc * 100.0))\n",
        "# learning curves\n",
        "summarize_diagnostics(history)"
      ],
      "execution_count": 182,
      "outputs": [
        {
          "output_type": "stream",
          "text": [
            "> 97.000\n"
          ],
          "name": "stdout"
        }
      ]
    }
  ]
}
